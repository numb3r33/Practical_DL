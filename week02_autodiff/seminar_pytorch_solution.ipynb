{
 "cells": [
  {
   "cell_type": "markdown",
   "metadata": {},
   "source": [
    "# Pytorch basics\n",
    "\n",
    "![img](https://s1.postimg.org/6fl45xnvnj/pytorch-logo-dark.png)\n",
    "\n",
    "__This notebook__ will teach you to use pytorch low-level core. You can install it [here](http://pytorch.org/). For high-level interface see the next notebook.\n",
    "\n",
    "__Pytorch feels__ differently than tensorflow/theano in almost every level. TensorFlow makes your code live in two \"worlds\" simultaneously:  symbolic graphs and actual tensors. First you declare a symbolic \"recipe\" of how to get from inputs to outputs, then feed it with actual minibatches of data.  In pytorch, __there's only one world__: all tensors have a numeric value.\n",
    "\n",
    "You compute outputs on the fly without pre-declaring anything. The code looks exactly as in pure numpy with one exception: pytorch computes gradients for you. And can run stuff on GPU. And has a number of pre-implemented building blocks for your neural nets. [And a few more things.](https://medium.com/towards-data-science/pytorch-vs-tensorflow-spotting-the-difference-25c75777377b)\n",
    "\n",
    "And now we finally shut up and let pytorch do the talking."
   ]
  },
  {
   "cell_type": "code",
   "execution_count": 1,
   "metadata": {},
   "outputs": [
    {
     "name": "stdout",
     "output_type": "stream",
     "text": [
      "1.0.0\n"
     ]
    }
   ],
   "source": [
    "from __future__ import print_function\n",
    "import numpy as np\n",
    "import torch\n",
    "print(torch.__version__)"
   ]
  },
  {
   "cell_type": "code",
   "execution_count": 2,
   "metadata": {
    "scrolled": true
   },
   "outputs": [
    {
     "name": "stdout",
     "output_type": "stream",
     "text": [
      "X :\n",
      "[[ 0  1  2  3]\n",
      " [ 4  5  6  7]\n",
      " [ 8  9 10 11]\n",
      " [12 13 14 15]]\n",
      "\n",
      "X.shape : (4, 4)\n",
      "\n",
      "add 5 :\n",
      "[[ 5  6  7  8]\n",
      " [ 9 10 11 12]\n",
      " [13 14 15 16]\n",
      " [17 18 19 20]]\n",
      "\n",
      "X*X^T  :\n",
      "[[ 14  38  62  86]\n",
      " [ 38 126 214 302]\n",
      " [ 62 214 366 518]\n",
      " [ 86 302 518 734]]\n",
      "\n",
      "mean over cols :\n",
      "[ 1.5  5.5  9.5 13.5]\n",
      "\n",
      "cumsum of cols :\n",
      "[[ 0  1  2  3]\n",
      " [ 4  6  8 10]\n",
      " [12 15 18 21]\n",
      " [24 28 32 36]]\n",
      "\n"
     ]
    }
   ],
   "source": [
    "# numpy world\n",
    "\n",
    "x = np.arange(16).reshape(4,4)\n",
    "\n",
    "print(\"X :\\n%s\\n\" % x)\n",
    "print(\"X.shape : %s\\n\" % (x.shape,))\n",
    "print(\"add 5 :\\n%s\\n\" % (x + 5))\n",
    "print(\"X*X^T  :\\n%s\\n\" % np.dot(x,x.T))\n",
    "print(\"mean over cols :\\n%s\\n\" % (x.mean(axis=-1)))\n",
    "print(\"cumsum of cols :\\n%s\\n\" % (np.cumsum(x,axis=0)))"
   ]
  },
  {
   "cell_type": "code",
   "execution_count": 3,
   "metadata": {},
   "outputs": [
    {
     "name": "stdout",
     "output_type": "stream",
     "text": [
      "X :\n",
      "tensor([[ 0.,  1.,  2.,  3.],\n",
      "        [ 4.,  5.,  6.,  7.],\n",
      "        [ 8.,  9., 10., 11.],\n",
      "        [12., 13., 14., 15.]])\n",
      "X.shape : torch.Size([4, 4])\n",
      "\n",
      "add 5 :\n",
      "tensor([[ 5.,  6.,  7.,  8.],\n",
      "        [ 9., 10., 11., 12.],\n",
      "        [13., 14., 15., 16.],\n",
      "        [17., 18., 19., 20.]])\n",
      "X*X^T  :\n",
      "tensor([[ 14.,  38.,  62.,  86.],\n",
      "        [ 38., 126., 214., 302.],\n",
      "        [ 62., 214., 366., 518.],\n",
      "        [ 86., 302., 518., 734.]])\n",
      "mean over cols :\n",
      "tensor([ 1.5000,  5.5000,  9.5000, 13.5000])\n",
      "cumsum of cols :\n",
      "tensor([[ 0.,  1.,  2.,  3.],\n",
      "        [ 4.,  6.,  8., 10.],\n",
      "        [12., 15., 18., 21.],\n",
      "        [24., 28., 32., 36.]])\n"
     ]
    }
   ],
   "source": [
    "# pytorch world\n",
    "\n",
    "x = np.arange(16).reshape(4,4)\n",
    "\n",
    "x = torch.from_numpy(x).type(torch.FloatTensor) #or torch.arange(0,16).view(4,4)\n",
    "\n",
    "print (\"X :\\n%s\" % x)\n",
    "print(\"X.shape : %s\\n\" % (x.shape,))\n",
    "print (\"add 5 :\\n%s\" % (x+5))\n",
    "print (\"X*X^T  :\\n%s\" % torch.matmul(x,x.transpose(1,0)))\n",
    "print (\"mean over cols :\\n%s\" % torch.mean(x,dim=-1))\n",
    "print (\"cumsum of cols :\\n%s\" % torch.cumsum(x,dim=0))"
   ]
  },
  {
   "cell_type": "markdown",
   "metadata": {},
   "source": [
    "## NumPy and Pytorch\n",
    "\n",
    "As you can notice, pytorch allows you to hack stuff much the same way you did with numpy. No graph declaration, no placeholders, no sessions. This means that you can _see the numeric value of any tensor at any moment of time_. Debugging such code can be done with by printing tensors or using any debug tool you want (e.g. [gdb](https://wiki.python.org/moin/DebuggingWithGdb)).\n",
    "\n",
    "You could also notice the a few new method names and a different API. So no, there's no compatibility with numpy [yet](https://github.com/pytorch/pytorch/issues/2228) and yes, you'll have to memorize all the names again. Get excited!\n",
    "\n",
    "![img](http://i0.kym-cdn.com/entries/icons/original/000/017/886/download.jpg)\n",
    "\n",
    "For example, \n",
    "* If something takes a list/tuple of axes in numpy, you can expect it to take *args in pytorch\n",
    " * `x.reshape([1,2,8]) -> x.view(1,2,8)`\n",
    "* You should swap _axis_ for _dim_ in operations like mean or cumsum\n",
    " * `x.sum(axis=-1) -> x.sum(dim=-1)`\n",
    "* most mathematical operations are the same, but types an shaping is different\n",
    " * `x.astype('int64') -> x.type(torch.LongTensor)`\n",
    "\n",
    "To help you acclimatize, there's a [table](https://github.com/torch/torch7/wiki/Torch-for-Numpy-users) covering most new things. There's also a neat [documentation page](http://pytorch.org/docs/master/).\n",
    "\n",
    "Finally, if you're stuck with a technical problem, we recommend searching [pytorch forumns](https://discuss.pytorch.org/). Or just googling, which usually works just as efficiently. \n",
    "\n",
    "If you feel like you almost give up, remember two things: __GPU__ an __free gradients__. Besides you can always jump back to numpy with x.numpy()"
   ]
  },
  {
   "cell_type": "markdown",
   "metadata": {},
   "source": [
    "### Warmup: trigonometric knotwork\n",
    "_inspired by [this post](https://www.quora.com/What-are-the-most-interesting-equation-plots)_\n",
    "\n",
    "There are some simple mathematical functions with cool plots. For one, consider this:\n",
    "\n",
    "$$ x(t) = t - 1.5 * cos( 15 t) $$\n",
    "$$ y(t) = t - 1.5 * sin( 16 t) $$\n"
   ]
  },
  {
   "cell_type": "code",
   "execution_count": 4,
   "metadata": {
    "collapsed": true
   },
   "outputs": [
    {
     "data": {
      "text/plain": [
       "[<matplotlib.lines.Line2D at 0x7fe6f5772978>]"
      ]
     },
     "execution_count": 4,
     "metadata": {},
     "output_type": "execute_result"
    },
    {
     "data": {
      "image/png": "[encoded data removed]",
      "text/plain": [
       "<Figure size 432x288 with 1 Axes>"
      ]
     },
     "metadata": {
      "needs_background": "light"
     },
     "output_type": "display_data"
    }
   ],
   "source": [
    "import matplotlib.pyplot as plt\n",
    "%matplotlib inline\n",
    "\n",
    "t = torch.linspace(-10, 10, steps = 10000)\n",
    "\n",
    "# compute x(t) and y(t) as defined above\n",
    "x = t - 1.5 * torch.cos(15 * t) ###YOUR CODE\n",
    "y = t - 1. * torch.sin(16 * t) ###YOUR CODE\n",
    "\n",
    "plt.plot(x.numpy(), y.numpy())"
   ]
  },
  {
   "cell_type": "markdown",
   "metadata": {},
   "source": [
    "if you're done early, try adjusting the formula and seing how  it affects the function"
   ]
  },
  {
   "cell_type": "markdown",
   "metadata": {},
   "source": [
    "```\n",
    "\n",
    "```\n",
    "\n",
    "```\n",
    "\n",
    "```\n",
    "\n",
    "```\n",
    "\n",
    "```\n",
    "\n",
    "```\n",
    "\n",
    "```\n",
    "\n",
    "```\n",
    "\n",
    "```\n",
    "\n",
    "```\n",
    "\n",
    "```\n",
    "\n",
    "```\n",
    "\n",
    "```\n",
    "\n",
    "```\n",
    "\n",
    "```\n",
    "\n",
    "```\n",
    "\n",
    "```\n"
   ]
  },
  {
   "cell_type": "markdown",
   "metadata": {},
   "source": [
    "## Automatic gradients\n",
    "\n",
    "Any self-respecting DL framework must do your backprop for you. Torch handles this with __`Variable`__s and the `autograd` module.\n",
    "\n",
    "The general pipeline looks like this:\n",
    "* You create ```a = Variable(data, requires_grad=True)```\n",
    "* You define some differentiable `loss = whatever(a)`\n",
    "* Call `loss.backward()`\n",
    "* Gradients are now available as ```a.grads```\n",
    "\n",
    "__Here's an example:__ let's fit a linear regression on Boston house prices"
   ]
  },
  {
   "cell_type": "code",
   "execution_count": 5,
   "metadata": {
    "scrolled": true
   },
   "outputs": [
    {
     "data": {
      "text/plain": [
       "<matplotlib.collections.PathCollection at 0x7fe6f361dfd0>"
      ]
     },
     "execution_count": 5,
     "metadata": {},
     "output_type": "execute_result"
    },
    {
     "data": {
      "image/png": "[encoded data removed]",
      "text/plain": [
       "<Figure size 432x288 with 1 Axes>"
      ]
     },
     "metadata": {
      "needs_background": "light"
     },
     "output_type": "display_data"
    }
   ],
   "source": [
    "from sklearn.datasets import load_boston\n",
    "boston = load_boston()\n",
    "plt.scatter(boston.data[:, -1], boston.target)"
   ]
  },
  {
   "cell_type": "code",
   "execution_count": 6,
   "metadata": {
    "collapsed": true
   },
   "outputs": [],
   "source": [
    "from torch.autograd import Variable\n",
    "w = torch.zeros(1, requires_grad=True)\n",
    "b = torch.zeros(1, requires_grad=True)\n",
    "\n",
    "# cast data into torch variables\n",
    "x = torch.FloatTensor(boston.data[:,-1] / 10)\n",
    "y = torch.FloatTensor(boston.target)"
   ]
  },
  {
   "cell_type": "code",
   "execution_count": 7,
   "metadata": {
    "collapsed": true
   },
   "outputs": [],
   "source": [
    "y_pred = w * x + b\n",
    "loss = torch.mean( (y_pred - y)**2 )\n",
    "\n",
    "# propagete gradients\n",
    "loss.backward()"
   ]
  },
  {
   "cell_type": "markdown",
   "metadata": {},
   "source": [
    "The gradients are now stored in `.grad` of a variable."
   ]
  },
  {
   "cell_type": "code",
   "execution_count": 8,
   "metadata": {},
   "outputs": [
    {
     "name": "stdout",
     "output_type": "stream",
     "text": [
      "dL/dw = \n",
      " tensor([-47.3514])\n",
      "dL/db = \n",
      " tensor([-45.0656])\n"
     ]
    }
   ],
   "source": [
    "print(\"dL/dw = \\n\", w.grad)\n",
    "print(\"dL/db = \\n\", b.grad)"
   ]
  },
  {
   "cell_type": "markdown",
   "metadata": {},
   "source": [
    "If you compute gradient from multiple losses, the gradients will add up at variables, therefore it's useful to __zero the gradients__ between iteratons."
   ]
  },
  {
   "cell_type": "code",
   "execution_count": 11,
   "metadata": {},
   "outputs": [
    {
     "data": {
      "image/png": "[encoded data removed]",
      "text/plain": [
       "<Figure size 432x288 with 1 Axes>"
      ]
     },
     "metadata": {
      "needs_background": "light"
     },
     "output_type": "display_data"
    },
    {
     "name": "stdout",
     "output_type": "stream",
     "text": [
      "loss =  42.790950775146484\n"
     ]
    }
   ],
   "source": [
    "from IPython.display import clear_output\n",
    "\n",
    "for i in range(100):\n",
    "\n",
    "    y_pred = w * x  + b\n",
    "    loss = torch.mean( (y_pred - y)**2 )\n",
    "    loss.backward()\n",
    "\n",
    "    w.data -= 0.05 * w.grad.data\n",
    "    b.data -= 0.05 * b.grad.data\n",
    "    \n",
    "    #zero gradients\n",
    "    w.grad.data.zero_()\n",
    "    b.grad.data.zero_()\n",
    "    \n",
    "    # the rest of code is just bells and whistles\n",
    "    if (i+1)%5==0:\n",
    "        clear_output(True)\n",
    "        plt.scatter(x.data.numpy(), y.data.numpy())\n",
    "        plt.scatter(x.data.numpy(), y_pred.data.numpy(), color='orange', linewidth=5)\n",
    "        plt.show()\n",
    "\n",
    "        print(\"loss = \", loss.item())\n",
    "        if loss.item() < 0.5:\n",
    "            print(\"Done!\")\n",
    "            break"
   ]
  },
  {
   "cell_type": "markdown",
   "metadata": {},
   "source": [
    "__Bonus quest__: try implementing and writing some nonlinear regression. You can try quadratic features or some trigonometry, or a simple neural network. The only difference is that now you have more variables and a more complicated `y_pred`. "
   ]
  },
  {
   "cell_type": "markdown",
   "metadata": {},
   "source": [
    "```\n",
    "\n",
    "```\n",
    "\n",
    "```\n",
    "\n",
    "```\n",
    "\n",
    "```\n",
    "\n",
    "```\n",
    "\n",
    "```\n",
    "\n",
    "```\n",
    "\n",
    "```\n",
    "\n",
    "```\n",
    "\n",
    "```\n",
    "\n",
    "```\n",
    "\n",
    "```\n",
    "\n",
    "```\n",
    "\n",
    "```\n",
    "\n",
    "```\n",
    "\n",
    "\n",
    "### Tensor vs Variable\n",
    "\n",
    "![img](https://s1.postimg.org/1i8tinij33/torch_tensor_variable.png)\n",
    "\n",
    "`    `\n",
    "\n",
    "Tensor and Variable Weasley were identical and mischievous twin abstractions living in pytorch. Brilliant pranksters, they make sure your code never runs successfully from the first attempt.\n",
    "\n",
    "Seriously though, Variable wraps around the torch tensor and allows you to compute gradients. Theoretically, Variable acts just like tensor for all intents and purposes. Practically, you will find yourself debugging tensor vs variable issues most of your first \n",
    "\n",
    "Ideally, you could wrap everything into Variable from the get-go an forget about Tensor. Hopefully you will once be able to do so __[upvote [this](https://github.com/pytorch/pytorch/issues/2228)]__. \n",
    "\n",
    "Right now you can't, but it's getting better with each update.\n",
    "\n",
    "The good news is that you can always swap between the two seamlessly:\n",
    "* tensor to variable: `Variable(x)`\n",
    "* variable to tensor: `x.data`"
   ]
  },
  {
   "cell_type": "code",
   "execution_count": 8,
   "metadata": {},
   "outputs": [
    {
     "name": "stdout",
     "output_type": "stream",
     "text": [
      "Result (tensors):\n",
      " \n",
      " 1  1  0  1\n",
      " 0  0  1  0\n",
      " 0  1  0  0\n",
      " 1  0  0  1\n",
      "[torch.ByteTensor of size 4x4]\n",
      "\n",
      "Result (variables):\n",
      " Variable containing:\n",
      " 1  1  0  1\n",
      " 0  0  1  0\n",
      " 0  1  0  0\n",
      " 1  0  0  1\n",
      "[torch.ByteTensor of size 4x4]\n",
      "\n"
     ]
    }
   ],
   "source": [
    "from torch.autograd import Variable\n",
    "\n",
    "x = torch.arange(0,16).view(4,4).type(torch.IntTensor)\n",
    "x_var = Variable(x)\n",
    "\n",
    "print (\"Result (tensors):\\n\", (x == 1) | (x % 3 == 0))\n",
    "print (\"Result (variables):\\n\", (x_var == 1) | (x_var % 3==0))"
   ]
  },
  {
   "cell_type": "code",
   "execution_count": 9,
   "metadata": {},
   "outputs": [
    {
     "name": "stdout",
     "output_type": "stream",
     "text": [
      "conv1d (variables):\n",
      " Variable containing:\n",
      "(0 ,.,.) = \n",
      "  -3.3124   6.4206   9.8843   0.2650  -1.7784  -5.6862   0.3954  -3.2040\n",
      "   0.2343   3.8543 -10.5241  -1.7785   1.9637   2.9913   3.0881  -2.5121\n",
      "[torch.FloatTensor of size 1x2x8]\n",
      "\n",
      "conv1d (tensors):\n",
      "argument 0 is not a Variable\n"
     ]
    }
   ],
   "source": [
    "sequence = torch.randn(1,8,10)\n",
    "filters = torch.randn(2,8,3)\n",
    "\n",
    "#will work:\n",
    "print(\"conv1d (variables):\\n\",torch.nn.functional.conv1d(Variable(sequence),Variable(filters)))\n",
    "\n",
    "#will not work:\n",
    "try:\n",
    "    print(\"conv1d (tensors):\")\n",
    "    print(torch.nn.functional.conv1d(sequence,filters))\n",
    "except Exception as e:\n",
    "    print (e)\n",
    "\n"
   ]
  },
  {
   "cell_type": "markdown",
   "metadata": {},
   "source": [
    "# High-level pytorch\n",
    "\n",
    "So far we've been dealing with low-level torch API. While it's absolutely vital for any custom losses or layers, building large neura nets in it is a bit clumsy.\n",
    "\n",
    "Luckily, there's also a high-level torch interface with a pre-defined layers, activations and training algorithms. \n",
    "\n",
    "We'll cover them as we go through a simple image recognition problem: classifying letters into __\"A\"__ vs __\"B\"__.\n"
   ]
  },
  {
   "cell_type": "code",
   "execution_count": 107,
   "metadata": {},
   "outputs": [
    {
     "name": "stdout",
     "output_type": "stream",
     "text": [
      "Parsing...\n",
      "found broken img: ./notMNIST_small/A/RGVtb2NyYXRpY2FCb2xkT2xkc3R5bGUgQm9sZC50dGY=.png [it's ok if <10 images are broken]\n",
      "Done\n",
      "Train size = 2808, test_size = 937\n"
     ]
    }
   ],
   "source": [
    "from notmnist import load_notmnist\n",
    "X_train, y_train, X_test, y_test = load_notmnist(letters='AB')\n",
    "X_train, X_test = X_train.reshape([-1, 784]), X_test.reshape([-1, 784])\n",
    "\n",
    "print(\"Train size = %i, test_size = %i\"%(len(X_train),len(X_test)))"
   ]
  },
  {
   "cell_type": "code",
   "execution_count": 53,
   "metadata": {
    "scrolled": true
   },
   "outputs": [
    {
     "data": {
      "image/png": "[encoded data removed]",
      "text/plain": [
       "<Figure size 432x288 with 2 Axes>"
      ]
     },
     "metadata": {
      "needs_background": "light"
     },
     "output_type": "display_data"
    }
   ],
   "source": [
    "for i in [0,1]:\n",
    "    plt.subplot(1,2,i+1)\n",
    "    plt.imshow(X_train[i].reshape([28,28]))\n",
    "    plt.title(str(y_train[i]))"
   ]
  },
  {
   "cell_type": "markdown",
   "metadata": {},
   "source": [
    "Let's start with layers. The main abstraction here is __`torch.nn.Module`__"
   ]
  },
  {
   "cell_type": "code",
   "execution_count": 54,
   "metadata": {
    "collapsed": true
   },
   "outputs": [
    {
     "name": "stdout",
     "output_type": "stream",
     "text": [
      "Base class for all neural network modules.\n",
      "\n",
      "    Your models should also subclass this class.\n",
      "\n",
      "    Modules can also contain other Modules, allowing to nest them in\n",
      "    a tree structure. You can assign the submodules as regular attributes::\n",
      "\n",
      "        import torch.nn as nn\n",
      "        import torch.nn.functional as F\n",
      "\n",
      "        class Model(nn.Module):\n",
      "            def __init__(self):\n",
      "                super(Model, self).__init__()\n",
      "                self.conv1 = nn.Conv2d(1, 20, 5)\n",
      "                self.conv2 = nn.Conv2d(20, 20, 5)\n",
      "\n",
      "            def forward(self, x):\n",
      "               x = F.relu(self.conv1(x))\n",
      "               return F.relu(self.conv2(x))\n",
      "\n",
      "    Submodules assigned in this way will be registered, and will have their\n",
      "    parameters converted too when you call :meth:`to`, etc.\n",
      "    \n"
     ]
    }
   ],
   "source": [
    "from torch import nn\n",
    "import torch.nn.functional as F\n",
    "\n",
    "print(nn.Module.__doc__)"
   ]
  },
  {
   "cell_type": "markdown",
   "metadata": {},
   "source": [
    "There's a vast library of popular layers and architectures already built for ya'.\n",
    "\n",
    "This is a binary classification problem, so we'll train a __Logistic Regression with sigmoid__.\n",
    "$$P(y_i | X_i) = \\sigma(W \\cdot X_i + b) ={ 1 \\over {1+e^{- [W \\cdot X_i + b]}} }$$\n"
   ]
  },
  {
   "cell_type": "code",
   "execution_count": 55,
   "metadata": {
    "collapsed": true
   },
   "outputs": [],
   "source": [
    "# create a network that stacks layers on top of each other\n",
    "model = nn.Sequential()\n",
    "\n",
    "# add first \"dense\" layer with 784 input units and 1 output unit. \n",
    "model.add_module('l1', nn.Linear(784, 1))\n",
    "\n",
    "# add softmax activation for probabilities. Normalize over axis 1\n",
    "# note: layer names must be unique\n",
    "model.add_module('l2', nn.Sigmoid())"
   ]
  },
  {
   "cell_type": "code",
   "execution_count": 56,
   "metadata": {},
   "outputs": [
    {
     "name": "stdout",
     "output_type": "stream",
     "text": [
      "Weight shapes: [torch.Size([1, 784]), torch.Size([1])]\n"
     ]
    }
   ],
   "source": [
    "print(\"Weight shapes:\", [w.shape for w in model.parameters()])"
   ]
  },
  {
   "cell_type": "code",
   "execution_count": 57,
   "metadata": {
    "collapsed": true
   },
   "outputs": [
    {
     "data": {
      "text/plain": [
       "tensor([0.4369, 0.3254, 0.4056], grad_fn=<SelectBackward>)"
      ]
     },
     "execution_count": 57,
     "metadata": {},
     "output_type": "execute_result"
    }
   ],
   "source": [
    "# create dummy data with 3 samples and 784 features\n",
    "x = torch.FloatTensor(X_train[:3])\n",
    "y = torch.FloatTensor(y_train[:3])\n",
    "\n",
    "# compute outputs given inputs, both are variables\n",
    "y_predicted = model(x)[:, 0]\n",
    "\n",
    "y_predicted # display what we've got"
   ]
  },
  {
   "cell_type": "markdown",
   "metadata": {},
   "source": [
    "Let's now define a loss function for our model.\n",
    "\n",
    "The natural choice is to use binary crossentropy (aka logloss, negative llh):\n",
    "$$ L = {1 \\over N} \\underset{X_i,y_i} \\sum - [  y_i \\cdot log P(y_i | X_i) + (1-y_i) \\cdot log (1-P(y_i | X_i)) ]$$\n",
    "\n"
   ]
  },
  {
   "cell_type": "code",
   "execution_count": 81,
   "metadata": {
    "collapsed": true
   },
   "outputs": [
    {
     "name": "stdout",
     "output_type": "stream",
     "text": [
      "tensor(0.5806, grad_fn=<BinaryCrossEntropyBackward>)\n"
     ]
    }
   ],
   "source": [
    "crossentropy = nn.BCELoss()  ### YOUR CODE\n",
    "\n",
    "loss = crossentropy(model(x), y) ### YOUR CODE\n",
    "print(loss)\n",
    "# assert tuple(crossentropy.size()) == (3,), \"Crossentropy must be a vector with element per sample\"\n",
    "# assert tuple(loss.size()) == (1,), \"Loss must be scalar. Did you forget the mean/sum?\"\n",
    "assert loss.item() > 0, \"Crossentropy must non-negative, zero only for perfect prediction\"\n",
    "assert loss.item() <= np.log(3), \"Loss is too large even for untrained model. Please double-check it.\""
   ]
  },
  {
   "cell_type": "markdown",
   "metadata": {},
   "source": [
    "When we trained Linear Regression above, we had to manually .zero_() gradients on both our variables. Imagine that code for a 50-layer network.\n",
    "\n",
    "Again, to keep it from getting dirty, there's `torch.optim` module with pre-implemented algorithms:"
   ]
  },
  {
   "cell_type": "code",
   "execution_count": 82,
   "metadata": {
    "collapsed": true
   },
   "outputs": [],
   "source": [
    "opt = torch.optim.SGD(model.parameters(), lr=0.001)\n",
    "\n",
    "# here's how it's used:\n",
    "loss.backward()      # add new gradients\n",
    "opt.step()           # change weights\n",
    "opt.zero_grad()      # clear gradients"
   ]
  },
  {
   "cell_type": "code",
   "execution_count": 83,
   "metadata": {
    "collapsed": true
   },
   "outputs": [],
   "source": [
    "# dispose of old variables to avoid bugs later\n",
    "del x, y, y_predicted, loss"
   ]
  },
  {
   "cell_type": "markdown",
   "metadata": {},
   "source": [
    "### Putting it all together"
   ]
  },
  {
   "cell_type": "code",
   "execution_count": 119,
   "metadata": {
    "collapsed": true
   },
   "outputs": [],
   "source": [
    "# create network again just in case\n",
    "model = nn.Sequential()\n",
    "model.add_module('first', nn.Linear(784, 1))\n",
    "model.add_module('second', nn.Sigmoid())\n",
    "\n",
    "opt = torch.optim.SGD(model.parameters(), lr=1e-3)"
   ]
  },
  {
   "cell_type": "code",
   "execution_count": 120,
   "metadata": {},
   "outputs": [
    {
     "name": "stdout",
     "output_type": "stream",
     "text": [
      "step #0 | mean loss = 0.657\n",
      "step #100 | mean loss = 0.250\n",
      "step #200 | mean loss = 0.187\n",
      "step #300 | mean loss = 0.161\n",
      "step #400 | mean loss = 0.147\n",
      "step #500 | mean loss = 0.138\n",
      "step #600 | mean loss = 0.133\n",
      "step #700 | mean loss = 0.120\n",
      "step #800 | mean loss = 0.106\n",
      "step #900 | mean loss = 0.112\n",
      "step #1000 | mean loss = 0.110\n",
      "step #1100 | mean loss = 0.105\n",
      "step #1200 | mean loss = 0.113\n",
      "step #1300 | mean loss = 0.096\n",
      "step #1400 | mean loss = 0.109\n"
     ]
    }
   ],
   "source": [
    "history = []\n",
    "\n",
    "for i in range(1500):\n",
    "    \n",
    "    # sample 256 random images\n",
    "    ix = np.random.randint(0, len(X_train), 256)\n",
    "    x_batch = torch.FloatTensor(X_train[ix])\n",
    "    y_batch = torch.FloatTensor(y_train[ix])\n",
    "    \n",
    "    # predict probabilities\n",
    "    y_predicted = model(x_batch)\n",
    "    \n",
    "    # compute loss, just like before\n",
    "    loss = nn.BCELoss()(y_predicted, y_batch)\n",
    "    \n",
    "    # compute gradients\n",
    "    loss.backward()\n",
    "    \n",
    "    # optimizer step\n",
    "    opt.step()\n",
    "    \n",
    "    # clear gradients\n",
    "    opt.zero_grad()\n",
    "    \n",
    "    history.append(loss.item())\n",
    "    \n",
    "    if i % 100 == 0:\n",
    "        print(\"step #%i | mean loss = %.3f\" % (i, np.mean(history[-10:])))"
   ]
  },
  {
   "cell_type": "markdown",
   "metadata": {},
   "source": [
    "__Debugging tips:__\n",
    "* make sure your model predicts probabilities correctly. Just print them and see what's inside.\n",
    "* don't forget _minus_ sign in the loss function! It's a mistake 99% ppl do at some point.\n",
    "* make sure you zero-out gradients after each step. Srsly:)\n",
    "* In general, pytorch's error messages are quite helpful, read 'em before you google 'em.\n",
    "* if you see nan/inf, print what happens at each iteration to find our where exactly it occurs.\n",
    "  * If loss goes down and then turns nan midway through, try smaller learning rate. (Our current loss formula is unstable).\n"
   ]
  },
  {
   "cell_type": "markdown",
   "metadata": {},
   "source": [
    "### Evaluation\n",
    "\n",
    "Let's see how our model performs on test data"
   ]
  },
  {
   "cell_type": "code",
   "execution_count": 121,
   "metadata": {},
   "outputs": [
    {
     "name": "stdout",
     "output_type": "stream",
     "text": [
      "Test accuracy: 0.96158\n"
     ]
    }
   ],
   "source": [
    "# use your model to predict classes (0 or 1) for all test samples\n",
    "predicted_y_test = (model(torch.FloatTensor(X_test)).squeeze().detach().numpy() > .5) * 1 ### YOUR CODE\n",
    "         \n",
    "assert isinstance(predicted_y_test, np.ndarray), \"please return np array, not %s\" % type(predicted_y_test)\n",
    "assert predicted_y_test.shape == y_test.shape, \"please predict one class for each test sample\"\n",
    "assert np.in1d(predicted_y_test, y_test).all(), \"please predict class indexes\"\n",
    "\n",
    "accuracy = np.mean(predicted_y_test == y_test)\n",
    "\n",
    "print(\"Test accuracy: %.5f\" % accuracy)\n",
    "assert accuracy > 0.95, \"try training longer\""
   ]
  },
  {
   "cell_type": "markdown",
   "metadata": {},
   "source": [
    "### Now what?\n",
    "\n",
    "Made it past this point? Seminar isn't over yet? ~~go to the nearest coffee~~ __We have a quest for you!__\n",
    "\n",
    "Remember adaptive optimizer ~~bulsh~~ guide we gave you during the lecture? Time to put that thing into action!\n",
    "\n",
    "#### 0. Stack more layers!\n",
    "\n",
    "Your model is linear. Which is... bad... because... deep learning. Try stacking several linear layers with nonlinearities inbetween. This should improve accuracy by another %%.\n",
    "\n",
    "#### 1. Momentum that matters\n",
    "\n",
    "* Find that `torch.optim.SGD(...)` thingy and make it into `torch.optim.SGD(..., momentum=0.5)` and see how it affects training\n",
    "* Try momentum={0.5, 0.9, 0.99} and see what's best\n",
    "* Try RMSprop and Adam for even greater performance.\n",
    "\n",
    "\n",
    "#### 2. Batch normalization\n",
    "\n",
    "If you're done with that by the end of the seminar (in which case you are a robot), there's another thing from the lecture:\n",
    "  * Add nn.BatchNorm1d(num_units) between intermediate linear layers and their nonlinearities.\n",
    "  * This works better with deeper networks. \n",
    "  * Consider setting `torch.nn.Linear(..., bias=False)` to avoid unnecessary parameters."
   ]
  },
  {
   "cell_type": "markdown",
   "metadata": {},
   "source": [
    "## More about pytorch:\n",
    "* Using torch on GPU and multi-GPU - [link](http://pytorch.org/docs/master/notes/cuda.html)\n",
    "* More tutorials on pytorch - [link](http://pytorch.org/tutorials/beginner/deep_learning_60min_blitz.html)\n",
    "* Pytorch examples - a repo that implements many cool DL models in pytorch - [link](https://github.com/pytorch/examples)\n",
    "* Practical pytorch - a repo that implements some... other cool DL models... yes, in pytorch - [link](https://github.com/spro/practical-pytorch)\n",
    "* And some more - [link](https://www.reddit.com/r/pytorch/comments/6z0yeo/pytorch_and_pytorch_tricks_for_kaggle/)\n",
    "\n",
    "```\n",
    "\n",
    "```\n",
    "\n",
    "```\n",
    "\n",
    "```\n",
    "\n",
    "```\n",
    "\n",
    "```\n",
    "\n",
    "```\n",
    "\n",
    "```\n",
    "\n",
    "```\n",
    "\n",
    "```"
   ]
  },
  {
   "cell_type": "markdown",
   "metadata": {},
   "source": [
    "### Stack more layers ( with non-linearities )"
   ]
  },
  {
   "cell_type": "code",
   "execution_count": 147,
   "metadata": {},
   "outputs": [],
   "source": [
    "# create a network that stacks layers on top of each other\n",
    "model = nn.Sequential(\n",
    "            nn.Linear(784, 300),\n",
    "            nn.ReLU(),\n",
    "            nn.Linear(300, 100),\n",
    "            nn.ReLU(),\n",
    "            nn.Linear(100, 1),\n",
    "            nn.Sigmoid()\n",
    "        )\n",
    "\n",
    "opt = torch.optim.SGD(model.parameters(), lr=1e-3)"
   ]
  },
  {
   "cell_type": "code",
   "execution_count": 148,
   "metadata": {},
   "outputs": [
    {
     "name": "stdout",
     "output_type": "stream",
     "text": [
      "step #0 | mean loss = 0.696\n",
      "step #500 | mean loss = 0.442\n",
      "step #1000 | mean loss = 0.249\n",
      "step #1500 | mean loss = 0.186\n",
      "step #2000 | mean loss = 0.150\n",
      "step #2500 | mean loss = 0.120\n",
      "step #3000 | mean loss = 0.108\n",
      "step #3500 | mean loss = 0.092\n",
      "step #4000 | mean loss = 0.086\n",
      "step #4500 | mean loss = 0.083\n",
      "step #5000 | mean loss = 0.084\n",
      "step #5500 | mean loss = 0.078\n",
      "step #6000 | mean loss = 0.074\n",
      "step #6500 | mean loss = 0.072\n",
      "step #7000 | mean loss = 0.060\n",
      "step #7500 | mean loss = 0.067\n",
      "step #8000 | mean loss = 0.059\n",
      "step #8500 | mean loss = 0.046\n",
      "step #9000 | mean loss = 0.055\n",
      "step #9500 | mean loss = 0.054\n"
     ]
    }
   ],
   "source": [
    "history = []\n",
    "\n",
    "for i in range(10000):\n",
    "    \n",
    "    # sample 256 random images\n",
    "    ix = np.random.randint(0, len(X_train), 256)\n",
    "    x_batch = torch.FloatTensor(X_train[ix])\n",
    "    y_batch = torch.FloatTensor(y_train[ix])\n",
    "    \n",
    "    # predict probabilities\n",
    "    y_predicted = model(x_batch)\n",
    "    \n",
    "    # compute loss, just like before\n",
    "    loss = nn.BCELoss()(y_predicted, y_batch)\n",
    "    \n",
    "    # compute gradients\n",
    "    loss.backward()\n",
    "    \n",
    "    # optimizer step\n",
    "    opt.step()\n",
    "    \n",
    "    # clear gradients\n",
    "    opt.zero_grad()\n",
    "    \n",
    "    history.append(loss.item())\n",
    "    \n",
    "    if i % 500 == 0:\n",
    "        print(\"step #%i | mean loss = %.3f\" % (i, np.mean(history[-10:])))"
   ]
  },
  {
   "cell_type": "code",
   "execution_count": 149,
   "metadata": {},
   "outputs": [
    {
     "name": "stdout",
     "output_type": "stream",
     "text": [
      "Test accuracy: 0.96585\n"
     ]
    }
   ],
   "source": [
    "# use your model to predict classes (0 or 1) for all test samples\n",
    "predicted_y_test = (model(torch.FloatTensor(X_test)).squeeze().detach().numpy() > .5) * 1 ### YOUR CODE\n",
    "         \n",
    "assert isinstance(predicted_y_test, np.ndarray), \"please return np array, not %s\" % type(predicted_y_test)\n",
    "assert predicted_y_test.shape == y_test.shape, \"please predict one class for each test sample\"\n",
    "assert np.in1d(predicted_y_test, y_test).all(), \"please predict class indexes\"\n",
    "\n",
    "accuracy = np.mean(predicted_y_test == y_test)\n",
    "\n",
    "print(\"Test accuracy: %.5f\" % accuracy)\n",
    "assert accuracy > 0.95, \"try training longer\""
   ]
  },
  {
   "cell_type": "markdown",
   "metadata": {},
   "source": [
    "### Adaptive SGD"
   ]
  },
  {
   "cell_type": "markdown",
   "metadata": {},
   "source": [
    "#### SGD with momentum"
   ]
  },
  {
   "cell_type": "code",
   "execution_count": 153,
   "metadata": {},
   "outputs": [],
   "source": [
    "# create a network that stacks layers on top of each other\n",
    "model = nn.Sequential(\n",
    "            nn.Linear(784, 300),\n",
    "            nn.ReLU(),\n",
    "            nn.Linear(300, 100),\n",
    "            nn.ReLU(),\n",
    "            nn.Linear(100, 1),\n",
    "            nn.Sigmoid()\n",
    "        )\n",
    "\n",
    "opt = torch.optim.SGD(model.parameters(), lr=1e-3, momentum=.9)"
   ]
  },
  {
   "cell_type": "code",
   "execution_count": 154,
   "metadata": {},
   "outputs": [
    {
     "name": "stdout",
     "output_type": "stream",
     "text": [
      "step #0 | mean loss = 0.703\n",
      "step #500 | mean loss = 0.095\n",
      "step #1000 | mean loss = 0.051\n",
      "step #1500 | mean loss = 0.040\n",
      "step #2000 | mean loss = 0.029\n",
      "step #2500 | mean loss = 0.021\n",
      "step #3000 | mean loss = 0.018\n",
      "step #3500 | mean loss = 0.015\n",
      "step #4000 | mean loss = 0.011\n",
      "step #4500 | mean loss = 0.009\n",
      "step #5000 | mean loss = 0.006\n",
      "step #5500 | mean loss = 0.005\n",
      "step #6000 | mean loss = 0.004\n",
      "step #6500 | mean loss = 0.004\n",
      "step #7000 | mean loss = 0.003\n",
      "step #7500 | mean loss = 0.004\n",
      "step #8000 | mean loss = 0.003\n",
      "step #8500 | mean loss = 0.003\n",
      "step #9000 | mean loss = 0.002\n",
      "step #9500 | mean loss = 0.002\n"
     ]
    }
   ],
   "source": [
    "history = []\n",
    "\n",
    "for i in range(10000):\n",
    "    \n",
    "    # sample 256 random images\n",
    "    ix = np.random.randint(0, len(X_train), 256)\n",
    "    x_batch = torch.FloatTensor(X_train[ix])\n",
    "    y_batch = torch.FloatTensor(y_train[ix])\n",
    "    \n",
    "    # predict probabilities\n",
    "    y_predicted = model(x_batch)\n",
    "    \n",
    "    # compute loss, just like before\n",
    "    loss = nn.BCELoss()(y_predicted, y_batch)\n",
    "    \n",
    "    # compute gradients\n",
    "    loss.backward()\n",
    "    \n",
    "    # optimizer step\n",
    "    opt.step()\n",
    "    \n",
    "    # clear gradients\n",
    "    opt.zero_grad()\n",
    "    \n",
    "    history.append(loss.item())\n",
    "    \n",
    "    if i % 500 == 0:\n",
    "        print(\"step #%i | mean loss = %.3f\" % (i, np.mean(history[-10:])))"
   ]
  },
  {
   "cell_type": "code",
   "execution_count": 155,
   "metadata": {},
   "outputs": [
    {
     "name": "stdout",
     "output_type": "stream",
     "text": [
      "Test accuracy: 0.96905\n"
     ]
    }
   ],
   "source": [
    "# use your model to predict classes (0 or 1) for all test samples\n",
    "predicted_y_test = (model(torch.FloatTensor(X_test)).squeeze().detach().numpy() > .5) * 1 ### YOUR CODE\n",
    "         \n",
    "assert isinstance(predicted_y_test, np.ndarray), \"please return np array, not %s\" % type(predicted_y_test)\n",
    "assert predicted_y_test.shape == y_test.shape, \"please predict one class for each test sample\"\n",
    "assert np.in1d(predicted_y_test, y_test).all(), \"please predict class indexes\"\n",
    "\n",
    "accuracy = np.mean(predicted_y_test == y_test)\n",
    "\n",
    "print(\"Test accuracy: %.5f\" % accuracy)\n",
    "assert accuracy > 0.95, \"try training longer\""
   ]
  },
  {
   "cell_type": "markdown",
   "metadata": {},
   "source": [
    "#### RMSProp"
   ]
  },
  {
   "cell_type": "code",
   "execution_count": 164,
   "metadata": {},
   "outputs": [],
   "source": [
    "# create a network that stacks layers on top of each other\n",
    "model = nn.Sequential(\n",
    "            nn.Linear(784, 300),\n",
    "            nn.ReLU(),\n",
    "            nn.Linear(300, 100),\n",
    "            nn.ReLU(),\n",
    "            nn.Linear(100, 1),\n",
    "            nn.Sigmoid()\n",
    "        )\n",
    "\n",
    "opt = torch.optim.RMSprop(model.parameters(), lr=1e-3)"
   ]
  },
  {
   "cell_type": "code",
   "execution_count": 165,
   "metadata": {},
   "outputs": [
    {
     "name": "stdout",
     "output_type": "stream",
     "text": [
      "step #0 | mean loss = 0.687\n",
      "step #500 | mean loss = 0.024\n",
      "step #1000 | mean loss = 0.000\n"
     ]
    }
   ],
   "source": [
    "history = []\n",
    "\n",
    "for i in range(1500):\n",
    "    \n",
    "    # sample 256 random images\n",
    "    ix = np.random.randint(0, len(X_train), 256)\n",
    "    x_batch = torch.FloatTensor(X_train[ix])\n",
    "    y_batch = torch.FloatTensor(y_train[ix])\n",
    "    \n",
    "    # predict probabilities\n",
    "    y_predicted = model(x_batch)\n",
    "    \n",
    "    # compute loss, just like before\n",
    "    loss = nn.BCELoss()(y_predicted, y_batch)\n",
    "    \n",
    "    # compute gradients\n",
    "    loss.backward()\n",
    "    \n",
    "    # optimizer step\n",
    "    opt.step()\n",
    "    \n",
    "    # clear gradients\n",
    "    opt.zero_grad()\n",
    "    \n",
    "    history.append(loss.item())\n",
    "    \n",
    "    if i % 500 == 0:\n",
    "        print(\"step #%i | mean loss = %.3f\" % (i, np.mean(history[-500:])))"
   ]
  },
  {
   "cell_type": "code",
   "execution_count": 166,
   "metadata": {},
   "outputs": [
    {
     "name": "stdout",
     "output_type": "stream",
     "text": [
      "Test accuracy: 0.97225\n"
     ]
    }
   ],
   "source": [
    "# use your model to predict classes (0 or 1) for all test samples\n",
    "predicted_y_test = (model(torch.FloatTensor(X_test)).squeeze().detach().numpy() > .5) * 1 ### YOUR CODE\n",
    "         \n",
    "assert isinstance(predicted_y_test, np.ndarray), \"please return np array, not %s\" % type(predicted_y_test)\n",
    "assert predicted_y_test.shape == y_test.shape, \"please predict one class for each test sample\"\n",
    "assert np.in1d(predicted_y_test, y_test).all(), \"please predict class indexes\"\n",
    "\n",
    "accuracy = np.mean(predicted_y_test == y_test)\n",
    "\n",
    "print(\"Test accuracy: %.5f\" % accuracy)\n",
    "assert accuracy > 0.95, \"try training longer\""
   ]
  },
  {
   "cell_type": "markdown",
   "metadata": {},
   "source": [
    "#### Adam"
   ]
  },
  {
   "cell_type": "code",
   "execution_count": 170,
   "metadata": {},
   "outputs": [],
   "source": [
    "# create a network that stacks layers on top of each other\n",
    "model = nn.Sequential(\n",
    "            nn.Linear(784, 300),\n",
    "            nn.ReLU(),\n",
    "            nn.Linear(300, 100),\n",
    "            nn.ReLU(),\n",
    "            nn.Linear(100, 1),\n",
    "            nn.Sigmoid()\n",
    "        )\n",
    "\n",
    "opt = torch.optim.Adam(model.parameters(), lr=1e-3)"
   ]
  },
  {
   "cell_type": "code",
   "execution_count": 171,
   "metadata": {},
   "outputs": [
    {
     "name": "stdout",
     "output_type": "stream",
     "text": [
      "step #0 | mean loss = 0.709\n",
      "step #500 | mean loss = 0.014\n",
      "step #1000 | mean loss = 0.000\n"
     ]
    }
   ],
   "source": [
    "history = []\n",
    "\n",
    "for i in range(1500):\n",
    "    \n",
    "    # sample 256 random images\n",
    "    ix = np.random.randint(0, len(X_train), 256)\n",
    "    x_batch = torch.FloatTensor(X_train[ix])\n",
    "    y_batch = torch.FloatTensor(y_train[ix])\n",
    "    \n",
    "    # predict probabilities\n",
    "    y_predicted = model(x_batch)\n",
    "    \n",
    "    # compute loss, just like before\n",
    "    loss = nn.BCELoss()(y_predicted, y_batch)\n",
    "    \n",
    "    # compute gradients\n",
    "    loss.backward()\n",
    "    \n",
    "    # optimizer step\n",
    "    opt.step()\n",
    "    \n",
    "    # clear gradients\n",
    "    opt.zero_grad()\n",
    "    \n",
    "    history.append(loss.item())\n",
    "    \n",
    "    if i % 500 == 0:\n",
    "        print(\"step #%i | mean loss = %.3f\" % (i, np.mean(history[-500:])))"
   ]
  },
  {
   "cell_type": "code",
   "execution_count": 172,
   "metadata": {},
   "outputs": [
    {
     "name": "stdout",
     "output_type": "stream",
     "text": [
      "Test accuracy: 0.96905\n"
     ]
    }
   ],
   "source": [
    "# use your model to predict classes (0 or 1) for all test samples\n",
    "predicted_y_test = (model(torch.FloatTensor(X_test)).squeeze().detach().numpy() > .5) * 1 ### YOUR CODE\n",
    "         \n",
    "assert isinstance(predicted_y_test, np.ndarray), \"please return np array, not %s\" % type(predicted_y_test)\n",
    "assert predicted_y_test.shape == y_test.shape, \"please predict one class for each test sample\"\n",
    "assert np.in1d(predicted_y_test, y_test).all(), \"please predict class indexes\"\n",
    "\n",
    "accuracy = np.mean(predicted_y_test == y_test)\n",
    "\n",
    "print(\"Test accuracy: %.5f\" % accuracy)\n",
    "assert accuracy > 0.95, \"try training longer\""
   ]
  },
  {
   "cell_type": "markdown",
   "metadata": {},
   "source": [
    "#### BatchNormalization"
   ]
  },
  {
   "cell_type": "code",
   "execution_count": 197,
   "metadata": {},
   "outputs": [],
   "source": [
    "# create a network that stacks layers on top of each other\n",
    "model = nn.Sequential(\n",
    "            nn.Linear(784, 500, bias=False),\n",
    "            nn.BatchNorm1d(500),\n",
    "            nn.ReLU(),\n",
    "            nn.Linear(500, 300, bias=False),\n",
    "            nn.BatchNorm1d(300),\n",
    "            nn.ReLU(),\n",
    "            nn.Linear(300, 200, bias=False),\n",
    "            nn.BatchNorm1d(200),\n",
    "            nn.ReLU(),\n",
    "            nn.Linear(200, 100, bias=False),\n",
    "            nn.BatchNorm1d(100),\n",
    "            nn.ReLU(),\n",
    "            nn.Linear(100, 1),\n",
    "            nn.Sigmoid()\n",
    "        )\n",
    "\n",
    "opt = torch.optim.RMSprop(model.parameters(), lr=1e-3, momentum=.9)"
   ]
  },
  {
   "cell_type": "code",
   "execution_count": 198,
   "metadata": {},
   "outputs": [
    {
     "name": "stdout",
     "output_type": "stream",
     "text": [
      "step #0 | mean loss = 0.705\n",
      "step #500 | mean loss = 0.017\n",
      "step #1000 | mean loss = 0.004\n",
      "step #1500 | mean loss = 0.000\n"
     ]
    }
   ],
   "source": [
    "history = []\n",
    "\n",
    "for i in range(2000):\n",
    "    \n",
    "    # sample 256 random images\n",
    "    ix = np.random.randint(0, len(X_train), 256)\n",
    "    x_batch = torch.FloatTensor(X_train[ix])\n",
    "    y_batch = torch.FloatTensor(y_train[ix])\n",
    "    \n",
    "    # predict probabilities\n",
    "    y_predicted = model(x_batch)\n",
    "    \n",
    "    # compute loss, just like before\n",
    "    loss = nn.BCELoss()(y_predicted, y_batch)\n",
    "    \n",
    "    # compute gradients\n",
    "    loss.backward()\n",
    "    \n",
    "    # optimizer step\n",
    "    opt.step()\n",
    "    \n",
    "    # clear gradients\n",
    "    opt.zero_grad()\n",
    "    \n",
    "    history.append(loss.item())\n",
    "    \n",
    "    if i % 500 == 0:\n",
    "        print(\"step #%i | mean loss = %.3f\" % (i, np.mean(history[-500:])))"
   ]
  },
  {
   "cell_type": "code",
   "execution_count": 199,
   "metadata": {},
   "outputs": [
    {
     "name": "stdout",
     "output_type": "stream",
     "text": [
      "Test accuracy: 0.96692\n"
     ]
    }
   ],
   "source": [
    "# use your model to predict classes (0 or 1) for all test samples\n",
    "predicted_y_test = (model(torch.FloatTensor(X_test)).squeeze().detach().numpy() > .5) * 1 ### YOUR CODE\n",
    "         \n",
    "assert isinstance(predicted_y_test, np.ndarray), \"please return np array, not %s\" % type(predicted_y_test)\n",
    "assert predicted_y_test.shape == y_test.shape, \"please predict one class for each test sample\"\n",
    "assert np.in1d(predicted_y_test, y_test).all(), \"please predict class indexes\"\n",
    "\n",
    "accuracy = np.mean(predicted_y_test == y_test)\n",
    "\n",
    "print(\"Test accuracy: %.5f\" % accuracy)\n",
    "assert accuracy > 0.95, \"try training longer\""
   ]
  },
  {
   "cell_type": "code",
   "execution_count": null,
   "metadata": {},
   "outputs": [],
   "source": []
  }
 ],
 "metadata": {
  "kernelspec": {
   "display_name": "Python 3",
   "language": "python",
   "name": "python3"
  },
  "language_info": {
   "codemirror_mode": {
    "name": "ipython",
    "version": 3
   },
   "file_extension": ".py",
   "mimetype": "text/x-python",
   "name": "python",
   "nbconvert_exporter": "python",
   "pygments_lexer": "ipython3",
   "version": "3.7.1"
  }
 },
 "nbformat": 4,
 "nbformat_minor": 2
}
